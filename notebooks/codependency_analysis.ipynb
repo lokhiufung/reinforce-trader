{
 "cells": [
  {
   "cell_type": "code",
   "execution_count": 7,
   "id": "a165b4df",
   "metadata": {},
   "outputs": [],
   "source": [
    "import os\n",
    "import sys\n",
    "\n",
    "ROOT_PATH = os.path.abspath('../')\n",
    "if ROOT_PATH not in sys.path:\n",
    "    sys.path.append(ROOT_PATH)\n",
    "\n",
    "from reinforce_trader.research.metrics.codependency import get_mutual_information, get_variation_of_information\n",
    "from reinforce_trader.research.datalake_client import DatalakeClient"
   ]
  },
  {
   "cell_type": "code",
   "execution_count": 8,
   "id": "2899b75c",
   "metadata": {},
   "outputs": [],
   "source": [
    "dl_client = DatalakeClient()\n",
    "dfs = dl_client.get_tables('yfinance', ['AAPL', 'GOOGL'])\n",
    "dfs['AAPL'].head()"
   ]
  },
  {
   "cell_type": "code",
   "execution_count": 9,
   "id": "4a78242c",
   "metadata": {},
   "outputs": [],
   "source": [
    "dfs['GOOGL'].head()"
   ]
  },
  {
   "cell_type": "code",
   "execution_count": 5,
   "id": "1fe49410",
   "metadata": {},
   "outputs": [],
   "source": [
    "s_1, s_2 = dfs['AAPL']['open'].values, dfs['AAPL']['close'].values\n",
    "s_3, s_4 = dfs['GOOGL']['open'].values, dfs['GOOGL']['close'].values"
   ]
  },
  {
   "cell_type": "code",
   "execution_count": 6,
   "id": "2f93e6b1",
   "metadata": {},
   "outputs": [],
   "source": [
    "series = (s_1, s_2, s_3, s_4)\n",
    "\n",
    "for i in range(4):\n",
    "    for j in range(4):\n",
    "        vi = get_variation_of_information(series[i], series[j])\n",
    "        print(f'variation of information between s_{i+1} and s_{j+1} is {vi}')\n"
   ]
  },
  {
   "cell_type": "code",
   "execution_count": null,
   "id": "f63d738c",
   "metadata": {},
   "outputs": [],
   "source": []
  }
 ],
 "metadata": {
  "kernelspec": {
   "display_name": "Python 3 (ipykernel)",
   "language": "python",
   "name": "python3"
  },
  "language_info": {
   "codemirror_mode": {
    "name": "ipython",
    "version": 3
   },
   "file_extension": ".py",
   "mimetype": "text/x-python",
   "name": "python",
   "nbconvert_exporter": "python",
   "pygments_lexer": "ipython3",
   "version": "3.10.11"
  }
 },
 "nbformat": 4,
 "nbformat_minor": 5
}
