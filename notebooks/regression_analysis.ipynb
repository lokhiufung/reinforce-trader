{
 "cells": [
  {
   "cell_type": "code",
   "execution_count": 145,
   "id": "0ad74220",
   "metadata": {},
   "outputs": [],
   "source": [
    "import os\n",
    "\n",
    "import numpy as np\n",
    "import pandas as pd\n",
    "import matplotlib.pyplot as plt\n",
    "from statsmodels.tsa.stattools import adfuller"
   ]
  },
  {
   "cell_type": "code",
   "execution_count": 146,
   "id": "be389a2e",
   "metadata": {},
   "outputs": [],
   "source": [
    "config = {\n",
    "    \"DATALAKE_DIR\": os.path.abspath('../data/yfinance_fx_historical')\n",
    "}\n",
    "\n",
    "# data lake client object: for data selection, loading and transformation\n",
    "class DatalakeClient:\n",
    "    def __init__(self, config):\n",
    "        self.config = config\n",
    "    \n",
    "    def get_table(self, ticker) -> pd.DataFrame:\n",
    "        file_path = os.path.join(self.config['DATALAKE_DIR'], 'raw_data', f'{ticker}_historical_data.csv')\n",
    "        df = pd.read_csv(file_path, header=0)\n",
    "        return df\n",
    "    "
   ]
  },
  {
   "cell_type": "code",
   "execution_count": 147,
   "id": "71ec1552",
   "metadata": {},
   "outputs": [],
   "source": [
    "# statistic tests\n",
    "\n",
    "# stationarity\n",
    "def perform_adf_test(series):\n",
    "    \"\"\"\n",
    "    Perform the Augmented Dickey-Fuller test on a time series.\n",
    "\n",
    "    :param series: Time series data.\n",
    "    :return: ADF test result with test statistic, p-value, and critical values.\n",
    "    \"\"\"\n",
    "    adf_test = adfuller(series, autolag='AIC')  # Using AIC to choose the lag\n",
    "    result = pd.Series(adf_test[0:4], index=['Test Statistic', 'p-value', '#Lags Used', 'Number of Observations Used'])\n",
    "\n",
    "    for key, value in adf_test[4].items():\n",
    "        result[f'Critical Value ({key})'] = value\n",
    "\n",
    "    return result\n",
    "\n",
    "# Example usage:\n",
    "# series = df['YourTimeSeriesColumn']\n",
    "# print(perform_adf_test(series))\n"
   ]
  },
  {
   "cell_type": "code",
   "execution_count": 148,
   "id": "a8102b4a",
   "metadata": {},
   "outputs": [],
   "source": [
    "# turn df to sequences\n",
    "def rolling_window_sequences(df, window_size):\n",
    "    if not isinstance(df, pd.DataFrame):\n",
    "        raise ValueError(\"Input must be a pandas DataFrame.\")\n",
    "\n",
    "    num_rows, num_columns = df.shape\n",
    "    if num_rows < window_size:\n",
    "        raise ValueError(f'DataFrame must have more rows than {window_size=}: {num_rows=}')\n",
    "\n",
    "    series = df.values\n",
    "\n",
    "    # Calculate shape and strides for the rolling window\n",
    "    shape = (num_rows - window_size + 1, window_size, num_columns)\n",
    "    strides = (series.strides[0], series.strides[0], series.strides[1])\n",
    "\n",
    "    return np.lib.stride_tricks.as_strided(series, shape=shape, strides=strides)\n",
    "\n",
    "# Example usage:\n",
    "# series = np.array([your_data_series])\n",
    "# window_size = 5  # for example, a window size of 5\n",
    "# sequences = rolling_window_sequences(series, window_size)\n",
    "# print(sequences)\n"
   ]
  },
  {
   "cell_type": "code",
   "execution_count": 149,
   "id": "9cb86832",
   "metadata": {},
   "outputs": [],
   "source": [
    "# sampling\n",
    "def sample_random_rows(array, num_samples):\n",
    "    \"\"\"\n",
    "    Randomly sample rows from a numpy array.\n",
    "\n",
    "    :param array: Input numpy array.\n",
    "    :param num_samples: Number of rows to sample.\n",
    "    :return: A numpy array containing randomly sampled rows.\n",
    "    \"\"\"\n",
    "    if num_samples > len(array):\n",
    "        raise ValueError(\"Number of samples requested exceeds the number of rows in the array.\")\n",
    "\n",
    "    # Randomly choose row indices\n",
    "    indices = np.random.choice(len(array), size=num_samples, replace=False)\n",
    "\n",
    "    # Select the rows\n",
    "    sampled_rows = array[indices]\n",
    "\n",
    "    return sampled_rows\n",
    "\n",
    "# Example usage:\n",
    "# array = np.array([[1, 2, 3], [4, 5, 6], [7, 8, 9], [10, 11, 12]])\n",
    "# num_samples = 2\n",
    "# sampled_rows = sample_random_rows(array, num_samples)\n",
    "# print(sampled_rows)"
   ]
  },
  {
   "cell_type": "code",
   "execution_count": 150,
   "id": "626ce8f4",
   "metadata": {},
   "outputs": [],
   "source": [
    "# labeling\n",
    "# triple barries methods\n",
    "def label_ohlc_sequences(ohlc_sequences, r_stop, r_take):\n",
    "    \"\"\"\n",
    "    Labels each sequence in a numpy array of OHLC sequences.\n",
    "\n",
    "    Args:\n",
    "        ohlc_sequences (np.array): Numpy array where each row is an OHLC sequence.\n",
    "        r_stop (float): Percentage loss for stop loss.\n",
    "        r_take (float): Percentage gain for take profit.\n",
    "        T (int): Horizon of trading (number of steps in each sequence).\n",
    "\n",
    "    Returns:\n",
    "        np.array: Array of labels (1 for take profit, -1 for stop loss, 0 for end of the horizon).\n",
    "    \"\"\"\n",
    "    labels = []\n",
    "\n",
    "    for sequence in ohlc_sequences:\n",
    "        entry_price = sequence[0, 0]  # Open price of the first day in the sequence. Assume you get the signal last night and buy in the morning of the market\n",
    "        take_profit_price = entry_price * (1 + r_take)\n",
    "        stop_loss_price = entry_price * (1 - r_stop)\n",
    "\n",
    "        label = 0  # Default label (hold till end of horizon)\n",
    "        final_price = sequence[-1, 3]  # Close price of the last day in the sequence\n",
    "\n",
    "        for day in sequence:\n",
    "            day_high = day[1]  # High price of the day\n",
    "            day_low = day[2]  # Low price of the day\n",
    "\n",
    "            if day_high >= take_profit_price:\n",
    "                label = 1  # Take profit\n",
    "                final_price = take_profit_price\n",
    "                break\n",
    "            elif day_low <= stop_loss_price:\n",
    "                label = -1  # Stop loss\n",
    "                final_price = stop_loss_price\n",
    "                break\n",
    "\n",
    "        actual_return = final_price - entry_price\n",
    "        labels.append((label, actual_return))\n",
    "\n",
    "    return np.array(labels)\n",
    "\n",
    "# Example usage:\n",
    "# ohlc_sequences = np.array([[your_ohlc_data]])  # Replace with your OHLC data\n",
    "# r_stop = 0.02  # Example stop loss percentage\n",
    "# r_take = 0.03  # Example take profit percentage\n",
    "# T = 5  # Trading horizon\n",
    "# labels = label_ohlc_sequences(ohlc_sequences, r_stop, r_take, T)\n",
    "# print(labels)\n"
   ]
  },
  {
   "cell_type": "code",
   "execution_count": 161,
   "id": "f8cdd817",
   "metadata": {},
   "outputs": [],
   "source": [
    "# feature engineering\n",
    "\n",
    "def plot_weights(start, end, n_plots, size):\n",
    "    w = pd.DataFrame()\n",
    "    for d in np.linspace(start, end, n_plots):\n",
    "        w_ = get_weights(d, size=size)\n",
    "        w_ = pd.DataFrame(w_, index=range(w_.shape[0])[::-1], columns=[d])\n",
    "        w = w.join(w_, how='outer')\n",
    "    ax = w.plot()\n",
    "    ax.legend(loc='upper left')\n",
    "    plt.show()\n",
    "\n",
    "def get_weights(d, size):\n",
    "    # Weights for fractional differentiation\n",
    "    # the series of weights is a binomail series?\n",
    "    w = [1.]\n",
    "    for k in range(1, size):\n",
    "        w.append(-w[-1] * ((d - k + 1)) / k)\n",
    "    w = np.array(w[::-1]).reshape(-1, 1)\n",
    "    return w\n",
    "\n",
    "\n",
    "def fractional_differentiation(array, order, threshold=0.01):\n",
    "    \"\"\"\n",
    "    Applies fractional differentiation to a time series.\n",
    "    This refers to the Fixed-Width window fracdiff\n",
    "\n",
    "    :param array: A time series data.\n",
    "    :param order: Fractional order (d).\n",
    "    :param threshold: Cutoff threshold for weights.\n",
    "    :return: Fractionally differentiated series.\n",
    "    \"\"\"\n",
    "    # Length of the time series\n",
    "    array_length = len(array)\n",
    "\n",
    "    # Getting the weights\n",
    "    weights = get_weights(order, array_length)\n",
    "\n",
    "    # Adjust weights for threshold\n",
    "    weights = np.array(weights[np.abs(weights) > threshold])\n",
    "    diff_series_length = array_length - len(weights) + 1\n",
    "\n",
    "    # Applying the weights to the series\n",
    "    diff_series = []\n",
    "    for i in range(diff_series_length):\n",
    "        window = array[i:i + len(weights)]\n",
    "        # Handle scalar result of np.dot\n",
    "        result = np.dot(weights.T, window)\n",
    "        if np.isscalar(result):\n",
    "            diff_series.append(result)\n",
    "        else:\n",
    "            diff_series.append(result[0])\n",
    "\n",
    "#     diff_series = pd.Series(diff_series, index=series.index[-diff_series_length:])\n",
    "    return np.array(diff_series)\n",
    "    \n",
    "\n",
    "\n",
    "def fractional_differentiation_multi_channel(array, order, threshold=0.01):\n",
    "    \"\"\"\n",
    "    TODO: better do it with broadcasting\n",
    "    Assume array is a (N, seq, channels) array\n",
    "    \"\"\"\n",
    "    array_result = []\n",
    "    for i in range(array.shape[0]):\n",
    "        array_channels = []\n",
    "        for channel in range(array.shape[2]):\n",
    "            array_channel = fractional_differentiation(array[i, :, channel], order, threshold)\n",
    "            array_channels.append(array_channel)\n",
    "        array_result.append(array_channels)\n",
    "    return np.array(array_result)\n",
    "        \n",
    "\n",
    "# Example usage with a DataFrame\n",
    "# df = pd.read_csv('path_to_your_GOOGLE_ohlcv_data.csv')\n",
    "# order = 0.5  # example fractional order\n",
    "# df_fractionally_diff = df.apply(lambda x: fractional_differentiation(x, order) if x.name in ['Open', 'High', 'Low', 'Close', 'Volume'] else x)\n",
    "\n",
    "def plot_min_ffd(array, n_plots, threshold):\n",
    "    df_out = pd.DataFrame(columns=['adfStat', 'pVal','lags','nObs','95% conf','corr'])\n",
    "    for d in np.linspace(0, 1, n_plots):\n",
    "        fd_series = fractional_differentiation(array, d, threshold)\n",
    "#         fd_series = fd_series.dropna()\n",
    "        n_nan = len(array) - len(fd_series)\n",
    "        corr = np.corrcoef(array[n_nan:], fd_series)[0, 1]\n",
    "        \n",
    "        test_result = perform_adf_test(fd_series)\n",
    "        df_out.loc[d] = [\n",
    "            test_result['Test Statistic'],\n",
    "            test_result['p-value'],\n",
    "            test_result['#Lags Used'],\n",
    "            test_result['Number of Observations Used'],\n",
    "            test_result['Critical Value (5%)'],\n",
    "            corr,\n",
    "        ]\n",
    "    df_out[['adfStat','corr']].plot(secondary_y='adfStat')\n",
    "    plt.axhline(df_out['95% conf'].mean(),linewidth=1,color='r',linestyle='dotted')\n",
    "    return df_out\n",
    "\n",
    "        \n",
    "        "
   ]
  },
  {
   "cell_type": "code",
   "execution_count": 152,
   "id": "1aa14f9c",
   "metadata": {},
   "outputs": [],
   "source": [
    "# train test splitting\n",
    "# train, test\n",
    "\n",
    "def train_test_split_with_gap(array, test_size, gap_size):\n",
    "    \"\"\"\n",
    "    Splits a numpy array into training and testing sets with a gap between them.\n",
    "\n",
    "    :param array: Input numpy array.\n",
    "    :param test_size: Fraction of the dataset to include in the test split.\n",
    "    :param gap_size: Size of the gap between training and testing sets.\n",
    "    :return: Training set, Testing set\n",
    "    \"\"\"\n",
    "    if not 0 < test_size < 1:\n",
    "        raise ValueError(\"Test size should be a fraction between 0 and 1.\")\n",
    "\n",
    "    if not isinstance(gap_size, int) or gap_size < 0:\n",
    "        raise ValueError(\"Gap size should be a non-negative integer.\")\n",
    "\n",
    "    total_size = len(array)\n",
    "    test_set_size = int(np.floor(total_size * test_size))\n",
    "    train_set_size = total_size - test_set_size - gap_size\n",
    "\n",
    "    if train_set_size <= 0 or train_set_size + gap_size + test_set_size > total_size:\n",
    "        raise ValueError(\"Invalid combination of test size and gap size for the given array.\")\n",
    "\n",
    "    train_set = array[:train_set_size]\n",
    "    test_set = array[train_set_size + gap_size:]\n",
    "\n",
    "    return train_set, test_set\n",
    "\n",
    "# Example usage:\n",
    "# array = np.array([your_data])\n",
    "# test_size = 0.2  # e.g., 20% of the data for testing\n",
    "# gap_size = 10    # e.g., 10 data points gap\n",
    "# train_set, test_set = train_test_split_with_gap(array, test_size, gap_size)\n"
   ]
  },
  {
   "cell_type": "code",
   "execution_count": 153,
   "id": "1be245e5",
   "metadata": {},
   "outputs": [],
   "source": [
    "# modelling\n",
    "from sklearn.ensemble import RandomForestClassifier\n",
    "from sklearn.model_selection import train_test_split\n",
    "from sklearn.metrics import classification_report, accuracy_score, roc_auc_score, f1_score\n",
    "\n",
    "\n",
    "def train_random_forest(x_train, y_train, x_test=None, y_test=None, random_state=None):\n",
    "    \"\"\"\n",
    "    Train a Random Forest classifier on the given features and labels.\n",
    "\n",
    "    Args:\n",
    "        features (np.array): The feature set (numpy array).\n",
    "        labels (np.array): The labels (numpy array).\n",
    "        test_size (float): Fraction of the dataset to include in the test split.\n",
    "        random_state (int, optional): Controls the randomness of the bootstrapping of the samples. Defaults to None.\n",
    "\n",
    "    Returns:\n",
    "        RandomForestClassifier: Trained Random Forest model.\n",
    "        dict: A dictionary containing the model's performance metrics.\n",
    "    \"\"\"\n",
    "    # Split the data into training and testing sets\n",
    "#     X_train, X_test, y_train, y_test = train_test_split(features, labels, test_size=test_size, random_state=random_state)\n",
    "\n",
    "    # Initialize and train the Random Forest classifier\n",
    "    clf = RandomForestClassifier(random_state=random_state)\n",
    "    clf.fit(x_train, y_train)\n",
    "    \n",
    "    if x_test is not None and y_test is not None:\n",
    "        # Predict on the test set\n",
    "        y_pred = clf.predict(x_test)\n",
    "        y_pred_prob = clf.predict_proba(x_test)[:, 1]  # Probabilities for ROC AUC\n",
    "        # Evaluate the model\n",
    "        accuracy = accuracy_score(y_test, y_pred)\n",
    "        f1 = f1_score(y_test, y_pred, average='weighted')  # F1 Score\n",
    "        # Compute ROC AUC Score\n",
    "        if len(np.unique(y_test)) == 2:  # Binary classification\n",
    "            roc_auc = roc_auc_score(y_test, y_pred_prob)  # Use probabilities for the positive class\n",
    "        else:  # Multi-class classification\n",
    "            roc_auc = roc_auc_score(y_test, y_pred_prob, multi_class='ovr')  # One-vs-Rest approach\n",
    "        report = classification_report(y_test, y_pred)\n",
    "\n",
    "        # Print the evaluation metrics\n",
    "        print(\"Classification Report:\")\n",
    "        print(report)\n",
    "        print(\"Accuracy:\", accuracy)\n",
    "        print(\"F1 Score:\", f1)\n",
    "        print(\"ROC AUC Score:\", roc_auc)\n",
    "        return clf, {\"accuracy\": accuracy, \"f1_score\": f1, \"roc_auc\": roc_auc, \"classification_report\": report}\n",
    "    else:\n",
    "        return clf\n",
    "\n",
    "# Example usage:\n",
    "# features = np.array([your_feature_set])\n",
    "# labels = np.array([your_labels])\n",
    "# trained_model, performance = train_random_forest(features, labels)"
   ]
  },
  {
   "cell_type": "code",
   "execution_count": 154,
   "id": "0059e907",
   "metadata": {},
   "outputs": [],
   "source": [
    "# get datalake client\n",
    "dl_client = DatalakeClient(config)"
   ]
  },
  {
   "cell_type": "code",
   "execution_count": 155,
   "id": "b8a64565",
   "metadata": {},
   "outputs": [
    {
     "name": "stdout",
     "output_type": "stream",
     "text": [
      "<class 'pandas.core.frame.DataFrame'>\n",
      "RangeIndex: 2514 entries, 0 to 2513\n",
      "Data columns (total 7 columns):\n",
      " #   Column     Non-Null Count  Dtype  \n",
      "---  ------     --------------  -----  \n",
      " 0   Date       2514 non-null   object \n",
      " 1   Open       2514 non-null   float64\n",
      " 2   High       2514 non-null   float64\n",
      " 3   Low        2514 non-null   float64\n",
      " 4   Close      2514 non-null   float64\n",
      " 5   Adj Close  2514 non-null   float64\n",
      " 6   Volume     2514 non-null   int64  \n",
      "dtypes: float64(5), int64(1), object(1)\n",
      "memory usage: 137.6+ KB\n",
      "None\n"
     ]
    }
   ],
   "source": [
    "df = dl_client.get_table(ticker='GOOGL')\n",
    "\n",
    "# Generating summary statistics and information about the dataset\n",
    "summary_statistics = df.describe()\n",
    "df_info = df.info()\n",
    "\n",
    "print(df_info)"
   ]
  },
  {
   "cell_type": "markdown",
   "id": "a4c63ba7",
   "metadata": {},
   "source": [
    "## Regression model\n",
    "\n",
    "Predict the variable p_take, p_stop under the triple barrier labling method.\n",
    "\n",
    "### Feature:\n",
    "1. Fractional Differentiated Feature\n",
    "    - last 14 days log prices\n",
    "    - apply ffd\n",
    "    - use triple barrier for labeling\n",
    "    - use random foreset as classifier\n",
    "    \n",
    "### Sampling trading data:\n",
    "2. Sampling "
   ]
  },
  {
   "cell_type": "code",
   "execution_count": 156,
   "id": "d48e6d53",
   "metadata": {},
   "outputs": [],
   "source": [
    "# hyperparams\n",
    "FEATURE_WINDOW_SIZE = 28\n",
    "LABEL_WINDOW_SIZE = 14\n",
    "WINDOW_SIZE = FEATURE_WINDOW_SIZE + LABEL_WINDOW_SIZE\n",
    "\n",
    "R_STOP = 0.02\n",
    "R_TAKE = 0.04"
   ]
  },
  {
   "cell_type": "markdown",
   "id": "78cba8d0",
   "metadata": {},
   "source": [
    "# Transformation"
   ]
  },
  {
   "cell_type": "code",
   "execution_count": 157,
   "id": "799aefbc",
   "metadata": {},
   "outputs": [
    {
     "data": {
      "text/plain": [
       "(2473, 42, 4)"
      ]
     },
     "execution_count": 157,
     "metadata": {},
     "output_type": "execute_result"
    }
   ],
   "source": [
    "seqs = rolling_window_sequences(df[['Open', 'High', 'Low', 'Close']], window_size=WINDOW_SIZE)\n",
    "seqs.shape"
   ]
  },
  {
   "cell_type": "markdown",
   "id": "f2f9a9f7",
   "metadata": {},
   "source": [
    "# Train-test splitting"
   ]
  },
  {
   "cell_type": "code",
   "execution_count": 158,
   "id": "eac1ae82",
   "metadata": {},
   "outputs": [
    {
     "data": {
      "text/plain": [
       "((2198, 42, 4), (247, 42, 4))"
      ]
     },
     "execution_count": 158,
     "metadata": {},
     "output_type": "execute_result"
    }
   ],
   "source": [
    "train_seqs, test_seqs = train_test_split_with_gap(seqs, test_size=0.1, gap_size=28)\n",
    "train_seqs.shape, test_seqs.shape"
   ]
  },
  {
   "cell_type": "markdown",
   "id": "1e56b541",
   "metadata": {},
   "source": [
    "# Feature Engineering"
   ]
  },
  {
   "cell_type": "code",
   "execution_count": 162,
   "id": "e21546a9",
   "metadata": {},
   "outputs": [
    {
     "data": {
      "text/html": [
       "<div>\n",
       "<style scoped>\n",
       "    .dataframe tbody tr th:only-of-type {\n",
       "        vertical-align: middle;\n",
       "    }\n",
       "\n",
       "    .dataframe tbody tr th {\n",
       "        vertical-align: top;\n",
       "    }\n",
       "\n",
       "    .dataframe thead th {\n",
       "        text-align: right;\n",
       "    }\n",
       "</style>\n",
       "<table border=\"1\" class=\"dataframe\">\n",
       "  <thead>\n",
       "    <tr style=\"text-align: right;\">\n",
       "      <th></th>\n",
       "      <th>adfStat</th>\n",
       "      <th>pVal</th>\n",
       "      <th>lags</th>\n",
       "      <th>nObs</th>\n",
       "      <th>95% conf</th>\n",
       "      <th>corr</th>\n",
       "    </tr>\n",
       "  </thead>\n",
       "  <tbody>\n",
       "    <tr>\n",
       "      <th>0.0</th>\n",
       "      <td>-2.361449</td>\n",
       "      <td>0.152914</td>\n",
       "      <td>1.0</td>\n",
       "      <td>40.0</td>\n",
       "      <td>-2.937069</td>\n",
       "      <td>1.000000</td>\n",
       "    </tr>\n",
       "    <tr>\n",
       "      <th>0.1</th>\n",
       "      <td>-2.865678</td>\n",
       "      <td>0.049487</td>\n",
       "      <td>1.0</td>\n",
       "      <td>33.0</td>\n",
       "      <td>-2.954127</td>\n",
       "      <td>0.987669</td>\n",
       "    </tr>\n",
       "    <tr>\n",
       "      <th>0.2</th>\n",
       "      <td>-3.528346</td>\n",
       "      <td>0.007288</td>\n",
       "      <td>1.0</td>\n",
       "      <td>30.0</td>\n",
       "      <td>-2.964071</td>\n",
       "      <td>0.947482</td>\n",
       "    </tr>\n",
       "    <tr>\n",
       "      <th>0.3</th>\n",
       "      <td>-3.786335</td>\n",
       "      <td>0.003050</td>\n",
       "      <td>1.0</td>\n",
       "      <td>29.0</td>\n",
       "      <td>-2.967882</td>\n",
       "      <td>0.885429</td>\n",
       "    </tr>\n",
       "    <tr>\n",
       "      <th>0.4</th>\n",
       "      <td>-4.098327</td>\n",
       "      <td>0.000975</td>\n",
       "      <td>1.0</td>\n",
       "      <td>30.0</td>\n",
       "      <td>-2.964071</td>\n",
       "      <td>0.808551</td>\n",
       "    </tr>\n",
       "    <tr>\n",
       "      <th>0.5</th>\n",
       "      <td>-4.277953</td>\n",
       "      <td>0.000485</td>\n",
       "      <td>1.0</td>\n",
       "      <td>31.0</td>\n",
       "      <td>-2.960525</td>\n",
       "      <td>0.715511</td>\n",
       "    </tr>\n",
       "    <tr>\n",
       "      <th>0.6</th>\n",
       "      <td>-4.387325</td>\n",
       "      <td>0.000313</td>\n",
       "      <td>2.0</td>\n",
       "      <td>31.0</td>\n",
       "      <td>-2.960525</td>\n",
       "      <td>0.625600</td>\n",
       "    </tr>\n",
       "    <tr>\n",
       "      <th>0.7</th>\n",
       "      <td>-4.684678</td>\n",
       "      <td>0.000090</td>\n",
       "      <td>2.0</td>\n",
       "      <td>33.0</td>\n",
       "      <td>-2.954127</td>\n",
       "      <td>0.463747</td>\n",
       "    </tr>\n",
       "    <tr>\n",
       "      <th>0.8</th>\n",
       "      <td>-4.981620</td>\n",
       "      <td>0.000024</td>\n",
       "      <td>2.0</td>\n",
       "      <td>34.0</td>\n",
       "      <td>-2.951230</td>\n",
       "      <td>0.351278</td>\n",
       "    </tr>\n",
       "    <tr>\n",
       "      <th>0.9</th>\n",
       "      <td>-5.276130</td>\n",
       "      <td>0.000006</td>\n",
       "      <td>2.0</td>\n",
       "      <td>36.0</td>\n",
       "      <td>-2.945951</td>\n",
       "      <td>0.257632</td>\n",
       "    </tr>\n",
       "    <tr>\n",
       "      <th>1.0</th>\n",
       "      <td>-5.438471</td>\n",
       "      <td>0.000003</td>\n",
       "      <td>2.0</td>\n",
       "      <td>38.0</td>\n",
       "      <td>-2.941262</td>\n",
       "      <td>0.173704</td>\n",
       "    </tr>\n",
       "  </tbody>\n",
       "</table>\n",
       "</div>"
      ],
      "text/plain": [
       "      adfStat      pVal  lags  nObs  95% conf      corr\n",
       "0.0 -2.361449  0.152914   1.0  40.0 -2.937069  1.000000\n",
       "0.1 -2.865678  0.049487   1.0  33.0 -2.954127  0.987669\n",
       "0.2 -3.528346  0.007288   1.0  30.0 -2.964071  0.947482\n",
       "0.3 -3.786335  0.003050   1.0  29.0 -2.967882  0.885429\n",
       "0.4 -4.098327  0.000975   1.0  30.0 -2.964071  0.808551\n",
       "0.5 -4.277953  0.000485   1.0  31.0 -2.960525  0.715511\n",
       "0.6 -4.387325  0.000313   2.0  31.0 -2.960525  0.625600\n",
       "0.7 -4.684678  0.000090   2.0  33.0 -2.954127  0.463747\n",
       "0.8 -4.981620  0.000024   2.0  34.0 -2.951230  0.351278\n",
       "0.9 -5.276130  0.000006   2.0  36.0 -2.945951  0.257632\n",
       "1.0 -5.438471  0.000003   2.0  38.0 -2.941262  0.173704"
      ]
     },
     "execution_count": 162,
     "metadata": {},
     "output_type": "execute_result"
    },
    {
     "data": {
      "image/png": "[encoded data removed]",
      "text/plain": [
       "<Figure size 640x480 with 2 Axes>"
      ]
     },
     "metadata": {},
     "output_type": "display_data"
    }
   ],
   "source": [
    "plot_min_ffd(train_seqs[0, :, 0], 11, 0.01)"
   ]
  },
  {
   "cell_type": "code",
   "execution_count": 138,
   "id": "394f4d54",
   "metadata": {},
   "outputs": [
    {
     "data": {
      "text/plain": [
       "((2198, 4, 21), (247, 4, 21))"
      ]
     },
     "execution_count": 138,
     "metadata": {},
     "output_type": "execute_result"
    }
   ],
   "source": [
    "# fracdiff\n",
    "x_train = fractional_differentiation_multi_channel(train_seqs[:, :FEATURE_WINDOW_SIZE, :], order=0.63, threshold=0.01)\n",
    "x_test = fractional_differentiation_multi_channel(test_seqs[:, :FEATURE_WINDOW_SIZE, :], order=0.63, threshold=0.01)\n",
    "x_train.shape, x_test.shape"
   ]
  },
  {
   "cell_type": "code",
   "execution_count": 139,
   "id": "b2cf135b",
   "metadata": {},
   "outputs": [
    {
     "data": {
      "text/plain": [
       "((2198, 84), (247, 84))"
      ]
     },
     "execution_count": 139,
     "metadata": {},
     "output_type": "execute_result"
    }
   ],
   "source": [
    "# flatten the last 2 dimension\n",
    "x_train = x_train.reshape(x_train.shape[0], -1)\n",
    "x_test = x_test.reshape(x_test.shape[0], -1)\n",
    "x_train.shape, x_test.shape"
   ]
  },
  {
   "cell_type": "markdown",
   "id": "25014705",
   "metadata": {},
   "source": [
    "# Labelling"
   ]
  },
  {
   "cell_type": "code",
   "execution_count": 140,
   "id": "390befd8",
   "metadata": {},
   "outputs": [
    {
     "data": {
      "text/plain": [
       "((2198, 2), (247, 2))"
      ]
     },
     "execution_count": 140,
     "metadata": {},
     "output_type": "execute_result"
    }
   ],
   "source": [
    "# label and return\n",
    "y_train = label_ohlc_sequences(train_seqs[:, :FEATURE_WINDOW_SIZE, :], r_take=R_TAKE, r_stop=R_STOP)\n",
    "y_test = label_ohlc_sequences(test_seqs[:, :FEATURE_WINDOW_SIZE, :], r_take=R_TAKE, r_stop=R_STOP)\n",
    "y_train.shape, y_test.shape"
   ]
  },
  {
   "cell_type": "markdown",
   "id": "697ab242",
   "metadata": {},
   "source": [
    "# Sampling"
   ]
  },
  {
   "cell_type": "code",
   "execution_count": 141,
   "id": "18c13d5c",
   "metadata": {},
   "outputs": [],
   "source": [
    "# adf tests\n",
    "# n_rejects = 0\n",
    "\n",
    "# for i in range(new_sequences.shape[0]):\n",
    "#     result = perform_adf_test(new_sequences[0])\n",
    "#     if result['p-value'] < 0.05:\n",
    "#         n_rejects += 1\n",
    "# print('percentage of reject: ', n_rejects / new_sequences.shape[0])"
   ]
  },
  {
   "cell_type": "code",
   "execution_count": 142,
   "id": "c64c0dfd",
   "metadata": {},
   "outputs": [],
   "source": [
    "# correlations\n",
    "# corrs = []\n",
    "\n",
    "# for i in range(new_sequences.shape[0]):\n",
    "#     n_drop = sequences.shape[1] - new_sequences.shape[1]\n",
    "#     corr = np.corrcoef(sequences[i, n_drop:], new_sequences[i])[0, 1]\n",
    "#     corrs.append(corr)\n",
    "    \n",
    "# print('median corr: ', np.median(corrs))\n",
    "# print('mean corr: ', np.mean(corrs))\n",
    "# print('min corr: ', np.min(corrs))\n",
    "# print('max corr: ', np.max(corrs))"
   ]
  },
  {
   "cell_type": "markdown",
   "id": "f23e61f5",
   "metadata": {},
   "source": [
    "# Modelling\n",
    "\n",
    "1. Random forest"
   ]
  },
  {
   "cell_type": "code",
   "execution_count": 143,
   "id": "2e5be8e3",
   "metadata": {
    "scrolled": true
   },
   "outputs": [
    {
     "name": "stdout",
     "output_type": "stream",
     "text": [
      "Classification Report:\n",
      "              precision    recall  f1-score   support\n",
      "\n",
      "        -1.0       0.61      0.87      0.72       150\n",
      "         1.0       0.41      0.14      0.21        97\n",
      "\n",
      "    accuracy                           0.58       247\n",
      "   macro avg       0.51      0.51      0.46       247\n",
      "weighted avg       0.53      0.58      0.52       247\n",
      "\n",
      "Accuracy: 0.582995951417004\n",
      "F1 Score: 0.518910287272901\n",
      "ROC AUC Score: 0.5\n"
     ]
    }
   ],
   "source": [
    "# random forest\n",
    "clf = train_random_forest(\n",
    "    x_train=x_train,\n",
    "    y_train=y_train[:, 0],\n",
    "    x_test=x_test,\n",
    "    y_test=y_test[:, 0],\n",
    "    random_state=0\n",
    ")\n"
   ]
  },
  {
   "cell_type": "code",
   "execution_count": 144,
   "id": "ea2397f6",
   "metadata": {},
   "outputs": [
    {
     "name": "stdout",
     "output_type": "stream",
     "text": [
      "0.6072874493927125\n",
      "0.39271255060728744\n"
     ]
    }
   ],
   "source": [
    "n_stop = sum(y_test[:, 0] == -1) / y_test.shape[0]\n",
    "n_take = sum(y_test[:, 0] == 1) / y_test.shape[0]\n",
    "print(n_stop)\n",
    "print(n_take)"
   ]
  },
  {
   "cell_type": "code",
   "execution_count": null,
   "id": "c0862021",
   "metadata": {},
   "outputs": [],
   "source": []
  }
 ],
 "metadata": {
  "kernelspec": {
   "display_name": "Python 3 (ipykernel)",
   "language": "python",
   "name": "python3"
  },
  "language_info": {
   "codemirror_mode": {
    "name": "ipython",
    "version": 3
   },
   "file_extension": ".py",
   "mimetype": "text/x-python",
   "name": "python",
   "nbconvert_exporter": "python",
   "pygments_lexer": "ipython3",
   "version": "3.10.11"
  }
 },
 "nbformat": 4,
 "nbformat_minor": 5
}
